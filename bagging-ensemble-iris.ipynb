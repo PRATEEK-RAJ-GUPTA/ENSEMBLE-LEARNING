{
 "cells": [
  {
   "cell_type": "code",
   "execution_count": 1,
   "id": "0a6c0749",
   "metadata": {
    "_cell_guid": "b1076dfc-b9ad-4769-8c92-a6c4dae69d19",
    "_uuid": "8f2839f25d086af736a60e9eeb907d3b93b6e0e5",
    "execution": {
     "iopub.execute_input": "2023-04-09T13:19:51.721015Z",
     "iopub.status.busy": "2023-04-09T13:19:51.720251Z",
     "iopub.status.idle": "2023-04-09T13:19:51.739399Z",
     "shell.execute_reply": "2023-04-09T13:19:51.737826Z"
    },
    "papermill": {
     "duration": 0.035675,
     "end_time": "2023-04-09T13:19:51.742614",
     "exception": false,
     "start_time": "2023-04-09T13:19:51.706939",
     "status": "completed"
    },
    "tags": []
   },
   "outputs": [
    {
     "name": "stdout",
     "output_type": "stream",
     "text": [
      "/kaggle/input/iris/Iris.csv\n",
      "/kaggle/input/iris/database.sqlite\n"
     ]
    }
   ],
   "source": [
    "# This Python 3 environment comes with many helpful analytics libraries installed\n",
    "# It is defined by the kaggle/python Docker image: https://github.com/kaggle/docker-python\n",
    "# For example, here's several helpful packages to load\n",
    "\n",
    "import numpy as np # linear algebra\n",
    "import pandas as pd # data processing, CSV file I/O (e.g. pd.read_csv)\n",
    "\n",
    "# Input data files are available in the read-only \"../input/\" directory\n",
    "# For example, running this (by clicking run or pressing Shift+Enter) will list all files under the input directory\n",
    "\n",
    "import os\n",
    "for dirname, _, filenames in os.walk('/kaggle/input'):\n",
    "    for filename in filenames:\n",
    "        print(os.path.join(dirname, filename))\n",
    "\n",
    "# You can write up to 20GB to the current directory (/kaggle/working/) that gets preserved as output when you create a version using \"Save & Run All\" \n",
    "# You can also write temporary files to /kaggle/temp/, but they won't be saved outside of the current session"
   ]
  },
  {
   "cell_type": "code",
   "execution_count": 2,
   "id": "cc4f53e6",
   "metadata": {
    "execution": {
     "iopub.execute_input": "2023-04-09T13:19:51.766498Z",
     "iopub.status.busy": "2023-04-09T13:19:51.766023Z",
     "iopub.status.idle": "2023-04-09T13:19:51.782488Z",
     "shell.execute_reply": "2023-04-09T13:19:51.781067Z"
    },
    "papermill": {
     "duration": 0.031571,
     "end_time": "2023-04-09T13:19:51.785467",
     "exception": false,
     "start_time": "2023-04-09T13:19:51.753896",
     "status": "completed"
    },
    "tags": []
   },
   "outputs": [],
   "source": [
    "df = pd.read_csv('/kaggle/input/iris/Iris.csv')"
   ]
  },
  {
   "cell_type": "code",
   "execution_count": 3,
   "id": "971073ef",
   "metadata": {
    "execution": {
     "iopub.execute_input": "2023-04-09T13:19:51.808039Z",
     "iopub.status.busy": "2023-04-09T13:19:51.807587Z",
     "iopub.status.idle": "2023-04-09T13:19:51.840089Z",
     "shell.execute_reply": "2023-04-09T13:19:51.838677Z"
    },
    "papermill": {
     "duration": 0.047227,
     "end_time": "2023-04-09T13:19:51.842980",
     "exception": false,
     "start_time": "2023-04-09T13:19:51.795753",
     "status": "completed"
    },
    "tags": []
   },
   "outputs": [
    {
     "data": {
      "text/html": [
       "<div>\n",
       "<style scoped>\n",
       "    .dataframe tbody tr th:only-of-type {\n",
       "        vertical-align: middle;\n",
       "    }\n",
       "\n",
       "    .dataframe tbody tr th {\n",
       "        vertical-align: top;\n",
       "    }\n",
       "\n",
       "    .dataframe thead th {\n",
       "        text-align: right;\n",
       "    }\n",
       "</style>\n",
       "<table border=\"1\" class=\"dataframe\">\n",
       "  <thead>\n",
       "    <tr style=\"text-align: right;\">\n",
       "      <th></th>\n",
       "      <th>Id</th>\n",
       "      <th>SepalLengthCm</th>\n",
       "      <th>SepalWidthCm</th>\n",
       "      <th>PetalLengthCm</th>\n",
       "      <th>PetalWidthCm</th>\n",
       "      <th>Species</th>\n",
       "    </tr>\n",
       "  </thead>\n",
       "  <tbody>\n",
       "    <tr>\n",
       "      <th>0</th>\n",
       "      <td>1</td>\n",
       "      <td>5.1</td>\n",
       "      <td>3.5</td>\n",
       "      <td>1.4</td>\n",
       "      <td>0.2</td>\n",
       "      <td>Iris-setosa</td>\n",
       "    </tr>\n",
       "    <tr>\n",
       "      <th>1</th>\n",
       "      <td>2</td>\n",
       "      <td>4.9</td>\n",
       "      <td>3.0</td>\n",
       "      <td>1.4</td>\n",
       "      <td>0.2</td>\n",
       "      <td>Iris-setosa</td>\n",
       "    </tr>\n",
       "    <tr>\n",
       "      <th>2</th>\n",
       "      <td>3</td>\n",
       "      <td>4.7</td>\n",
       "      <td>3.2</td>\n",
       "      <td>1.3</td>\n",
       "      <td>0.2</td>\n",
       "      <td>Iris-setosa</td>\n",
       "    </tr>\n",
       "    <tr>\n",
       "      <th>3</th>\n",
       "      <td>4</td>\n",
       "      <td>4.6</td>\n",
       "      <td>3.1</td>\n",
       "      <td>1.5</td>\n",
       "      <td>0.2</td>\n",
       "      <td>Iris-setosa</td>\n",
       "    </tr>\n",
       "    <tr>\n",
       "      <th>4</th>\n",
       "      <td>5</td>\n",
       "      <td>5.0</td>\n",
       "      <td>3.6</td>\n",
       "      <td>1.4</td>\n",
       "      <td>0.2</td>\n",
       "      <td>Iris-setosa</td>\n",
       "    </tr>\n",
       "  </tbody>\n",
       "</table>\n",
       "</div>"
      ],
      "text/plain": [
       "   Id  SepalLengthCm  SepalWidthCm  PetalLengthCm  PetalWidthCm      Species\n",
       "0   1            5.1           3.5            1.4           0.2  Iris-setosa\n",
       "1   2            4.9           3.0            1.4           0.2  Iris-setosa\n",
       "2   3            4.7           3.2            1.3           0.2  Iris-setosa\n",
       "3   4            4.6           3.1            1.5           0.2  Iris-setosa\n",
       "4   5            5.0           3.6            1.4           0.2  Iris-setosa"
      ]
     },
     "execution_count": 3,
     "metadata": {},
     "output_type": "execute_result"
    }
   ],
   "source": [
    "df.head()"
   ]
  },
  {
   "cell_type": "code",
   "execution_count": 4,
   "id": "a01da1a0",
   "metadata": {
    "execution": {
     "iopub.execute_input": "2023-04-09T13:19:51.867942Z",
     "iopub.status.busy": "2023-04-09T13:19:51.867508Z",
     "iopub.status.idle": "2023-04-09T13:19:51.874867Z",
     "shell.execute_reply": "2023-04-09T13:19:51.873772Z"
    },
    "papermill": {
     "duration": 0.023694,
     "end_time": "2023-04-09T13:19:51.877184",
     "exception": false,
     "start_time": "2023-04-09T13:19:51.853490",
     "status": "completed"
    },
    "tags": []
   },
   "outputs": [],
   "source": [
    "#dropping id\n",
    "df = df.iloc[:,1:]"
   ]
  },
  {
   "cell_type": "code",
   "execution_count": 5,
   "id": "98214d5d",
   "metadata": {
    "execution": {
     "iopub.execute_input": "2023-04-09T13:19:51.900149Z",
     "iopub.status.busy": "2023-04-09T13:19:51.899441Z",
     "iopub.status.idle": "2023-04-09T13:19:51.912417Z",
     "shell.execute_reply": "2023-04-09T13:19:51.911146Z"
    },
    "papermill": {
     "duration": 0.027298,
     "end_time": "2023-04-09T13:19:51.914802",
     "exception": false,
     "start_time": "2023-04-09T13:19:51.887504",
     "status": "completed"
    },
    "tags": []
   },
   "outputs": [
    {
     "data": {
      "text/html": [
       "<div>\n",
       "<style scoped>\n",
       "    .dataframe tbody tr th:only-of-type {\n",
       "        vertical-align: middle;\n",
       "    }\n",
       "\n",
       "    .dataframe tbody tr th {\n",
       "        vertical-align: top;\n",
       "    }\n",
       "\n",
       "    .dataframe thead th {\n",
       "        text-align: right;\n",
       "    }\n",
       "</style>\n",
       "<table border=\"1\" class=\"dataframe\">\n",
       "  <thead>\n",
       "    <tr style=\"text-align: right;\">\n",
       "      <th></th>\n",
       "      <th>SepalLengthCm</th>\n",
       "      <th>SepalWidthCm</th>\n",
       "      <th>PetalLengthCm</th>\n",
       "      <th>PetalWidthCm</th>\n",
       "      <th>Species</th>\n",
       "    </tr>\n",
       "  </thead>\n",
       "  <tbody>\n",
       "    <tr>\n",
       "      <th>0</th>\n",
       "      <td>5.1</td>\n",
       "      <td>3.5</td>\n",
       "      <td>1.4</td>\n",
       "      <td>0.2</td>\n",
       "      <td>Iris-setosa</td>\n",
       "    </tr>\n",
       "    <tr>\n",
       "      <th>1</th>\n",
       "      <td>4.9</td>\n",
       "      <td>3.0</td>\n",
       "      <td>1.4</td>\n",
       "      <td>0.2</td>\n",
       "      <td>Iris-setosa</td>\n",
       "    </tr>\n",
       "    <tr>\n",
       "      <th>2</th>\n",
       "      <td>4.7</td>\n",
       "      <td>3.2</td>\n",
       "      <td>1.3</td>\n",
       "      <td>0.2</td>\n",
       "      <td>Iris-setosa</td>\n",
       "    </tr>\n",
       "    <tr>\n",
       "      <th>3</th>\n",
       "      <td>4.6</td>\n",
       "      <td>3.1</td>\n",
       "      <td>1.5</td>\n",
       "      <td>0.2</td>\n",
       "      <td>Iris-setosa</td>\n",
       "    </tr>\n",
       "    <tr>\n",
       "      <th>4</th>\n",
       "      <td>5.0</td>\n",
       "      <td>3.6</td>\n",
       "      <td>1.4</td>\n",
       "      <td>0.2</td>\n",
       "      <td>Iris-setosa</td>\n",
       "    </tr>\n",
       "  </tbody>\n",
       "</table>\n",
       "</div>"
      ],
      "text/plain": [
       "   SepalLengthCm  SepalWidthCm  PetalLengthCm  PetalWidthCm      Species\n",
       "0            5.1           3.5            1.4           0.2  Iris-setosa\n",
       "1            4.9           3.0            1.4           0.2  Iris-setosa\n",
       "2            4.7           3.2            1.3           0.2  Iris-setosa\n",
       "3            4.6           3.1            1.5           0.2  Iris-setosa\n",
       "4            5.0           3.6            1.4           0.2  Iris-setosa"
      ]
     },
     "execution_count": 5,
     "metadata": {},
     "output_type": "execute_result"
    }
   ],
   "source": [
    "df.head()"
   ]
  },
  {
   "cell_type": "code",
   "execution_count": 6,
   "id": "a18f8b26",
   "metadata": {
    "execution": {
     "iopub.execute_input": "2023-04-09T13:19:51.938327Z",
     "iopub.status.busy": "2023-04-09T13:19:51.937609Z",
     "iopub.status.idle": "2023-04-09T13:19:53.093926Z",
     "shell.execute_reply": "2023-04-09T13:19:53.092500Z"
    },
    "papermill": {
     "duration": 1.171223,
     "end_time": "2023-04-09T13:19:53.096600",
     "exception": false,
     "start_time": "2023-04-09T13:19:51.925377",
     "status": "completed"
    },
    "tags": []
   },
   "outputs": [
    {
     "data": {
      "text/html": [
       "<div>\n",
       "<style scoped>\n",
       "    .dataframe tbody tr th:only-of-type {\n",
       "        vertical-align: middle;\n",
       "    }\n",
       "\n",
       "    .dataframe tbody tr th {\n",
       "        vertical-align: top;\n",
       "    }\n",
       "\n",
       "    .dataframe thead th {\n",
       "        text-align: right;\n",
       "    }\n",
       "</style>\n",
       "<table border=\"1\" class=\"dataframe\">\n",
       "  <thead>\n",
       "    <tr style=\"text-align: right;\">\n",
       "      <th></th>\n",
       "      <th>SepalLengthCm</th>\n",
       "      <th>SepalWidthCm</th>\n",
       "      <th>PetalLengthCm</th>\n",
       "      <th>PetalWidthCm</th>\n",
       "      <th>Species</th>\n",
       "    </tr>\n",
       "  </thead>\n",
       "  <tbody>\n",
       "    <tr>\n",
       "      <th>0</th>\n",
       "      <td>5.1</td>\n",
       "      <td>3.5</td>\n",
       "      <td>1.4</td>\n",
       "      <td>0.2</td>\n",
       "      <td>0</td>\n",
       "    </tr>\n",
       "    <tr>\n",
       "      <th>1</th>\n",
       "      <td>4.9</td>\n",
       "      <td>3.0</td>\n",
       "      <td>1.4</td>\n",
       "      <td>0.2</td>\n",
       "      <td>0</td>\n",
       "    </tr>\n",
       "    <tr>\n",
       "      <th>2</th>\n",
       "      <td>4.7</td>\n",
       "      <td>3.2</td>\n",
       "      <td>1.3</td>\n",
       "      <td>0.2</td>\n",
       "      <td>0</td>\n",
       "    </tr>\n",
       "    <tr>\n",
       "      <th>3</th>\n",
       "      <td>4.6</td>\n",
       "      <td>3.1</td>\n",
       "      <td>1.5</td>\n",
       "      <td>0.2</td>\n",
       "      <td>0</td>\n",
       "    </tr>\n",
       "    <tr>\n",
       "      <th>4</th>\n",
       "      <td>5.0</td>\n",
       "      <td>3.6</td>\n",
       "      <td>1.4</td>\n",
       "      <td>0.2</td>\n",
       "      <td>0</td>\n",
       "    </tr>\n",
       "  </tbody>\n",
       "</table>\n",
       "</div>"
      ],
      "text/plain": [
       "   SepalLengthCm  SepalWidthCm  PetalLengthCm  PetalWidthCm  Species\n",
       "0            5.1           3.5            1.4           0.2        0\n",
       "1            4.9           3.0            1.4           0.2        0\n",
       "2            4.7           3.2            1.3           0.2        0\n",
       "3            4.6           3.1            1.5           0.2        0\n",
       "4            5.0           3.6            1.4           0.2        0"
      ]
     },
     "execution_count": 6,
     "metadata": {},
     "output_type": "execute_result"
    }
   ],
   "source": [
    "from sklearn.preprocessing import LabelEncoder\n",
    "encoder = LabelEncoder()\n",
    "df['Species'] = encoder.fit_transform(df['Species'])\n",
    "df.head()"
   ]
  },
  {
   "cell_type": "code",
   "execution_count": 7,
   "id": "8f0fd475",
   "metadata": {
    "execution": {
     "iopub.execute_input": "2023-04-09T13:19:53.120691Z",
     "iopub.status.busy": "2023-04-09T13:19:53.120220Z",
     "iopub.status.idle": "2023-04-09T13:19:53.129690Z",
     "shell.execute_reply": "2023-04-09T13:19:53.128291Z"
    },
    "papermill": {
     "duration": 0.024989,
     "end_time": "2023-04-09T13:19:53.132450",
     "exception": false,
     "start_time": "2023-04-09T13:19:53.107461",
     "status": "completed"
    },
    "tags": []
   },
   "outputs": [],
   "source": [
    "df = df[df['Species'] != 0][['SepalWidthCm','PetalLengthCm','Species']]"
   ]
  },
  {
   "cell_type": "code",
   "execution_count": 8,
   "id": "b04e792c",
   "metadata": {
    "execution": {
     "iopub.execute_input": "2023-04-09T13:19:53.155846Z",
     "iopub.status.busy": "2023-04-09T13:19:53.155434Z",
     "iopub.status.idle": "2023-04-09T13:19:53.168816Z",
     "shell.execute_reply": "2023-04-09T13:19:53.167307Z"
    },
    "papermill": {
     "duration": 0.028317,
     "end_time": "2023-04-09T13:19:53.171467",
     "exception": false,
     "start_time": "2023-04-09T13:19:53.143150",
     "status": "completed"
    },
    "tags": []
   },
   "outputs": [
    {
     "data": {
      "text/html": [
       "<div>\n",
       "<style scoped>\n",
       "    .dataframe tbody tr th:only-of-type {\n",
       "        vertical-align: middle;\n",
       "    }\n",
       "\n",
       "    .dataframe tbody tr th {\n",
       "        vertical-align: top;\n",
       "    }\n",
       "\n",
       "    .dataframe thead th {\n",
       "        text-align: right;\n",
       "    }\n",
       "</style>\n",
       "<table border=\"1\" class=\"dataframe\">\n",
       "  <thead>\n",
       "    <tr style=\"text-align: right;\">\n",
       "      <th></th>\n",
       "      <th>SepalWidthCm</th>\n",
       "      <th>PetalLengthCm</th>\n",
       "      <th>Species</th>\n",
       "    </tr>\n",
       "  </thead>\n",
       "  <tbody>\n",
       "    <tr>\n",
       "      <th>50</th>\n",
       "      <td>3.2</td>\n",
       "      <td>4.7</td>\n",
       "      <td>1</td>\n",
       "    </tr>\n",
       "    <tr>\n",
       "      <th>51</th>\n",
       "      <td>3.2</td>\n",
       "      <td>4.5</td>\n",
       "      <td>1</td>\n",
       "    </tr>\n",
       "    <tr>\n",
       "      <th>52</th>\n",
       "      <td>3.1</td>\n",
       "      <td>4.9</td>\n",
       "      <td>1</td>\n",
       "    </tr>\n",
       "    <tr>\n",
       "      <th>53</th>\n",
       "      <td>2.3</td>\n",
       "      <td>4.0</td>\n",
       "      <td>1</td>\n",
       "    </tr>\n",
       "    <tr>\n",
       "      <th>54</th>\n",
       "      <td>2.8</td>\n",
       "      <td>4.6</td>\n",
       "      <td>1</td>\n",
       "    </tr>\n",
       "  </tbody>\n",
       "</table>\n",
       "</div>"
      ],
      "text/plain": [
       "    SepalWidthCm  PetalLengthCm  Species\n",
       "50           3.2            4.7        1\n",
       "51           3.2            4.5        1\n",
       "52           3.1            4.9        1\n",
       "53           2.3            4.0        1\n",
       "54           2.8            4.6        1"
      ]
     },
     "execution_count": 8,
     "metadata": {},
     "output_type": "execute_result"
    }
   ],
   "source": [
    "df.head()"
   ]
  },
  {
   "cell_type": "code",
   "execution_count": 9,
   "id": "6d2fe6b1",
   "metadata": {
    "execution": {
     "iopub.execute_input": "2023-04-09T13:19:53.195375Z",
     "iopub.status.busy": "2023-04-09T13:19:53.194927Z",
     "iopub.status.idle": "2023-04-09T13:19:53.511826Z",
     "shell.execute_reply": "2023-04-09T13:19:53.510423Z"
    },
    "papermill": {
     "duration": 0.332573,
     "end_time": "2023-04-09T13:19:53.514982",
     "exception": false,
     "start_time": "2023-04-09T13:19:53.182409",
     "status": "completed"
    },
    "tags": []
   },
   "outputs": [],
   "source": [
    "import seaborn as sns\n",
    "import matplotlib.pyplot as plt"
   ]
  },
  {
   "cell_type": "code",
   "execution_count": 10,
   "id": "ec4b348c",
   "metadata": {
    "execution": {
     "iopub.execute_input": "2023-04-09T13:19:53.539875Z",
     "iopub.status.busy": "2023-04-09T13:19:53.538603Z",
     "iopub.status.idle": "2023-04-09T13:19:53.832246Z",
     "shell.execute_reply": "2023-04-09T13:19:53.830777Z"
    },
    "papermill": {
     "duration": 0.309181,
     "end_time": "2023-04-09T13:19:53.834996",
     "exception": false,
     "start_time": "2023-04-09T13:19:53.525815",
     "status": "completed"
    },
    "tags": []
   },
   "outputs": [
    {
     "data": {
      "text/plain": [
       "<matplotlib.collections.PathCollection at 0x7259a667dad0>"
      ]
     },
     "execution_count": 10,
     "metadata": {},
     "output_type": "execute_result"
    },
    {
     "data": {
      "image/png": "[encoded data removed]",
      "text/plain": [
       "<Figure size 640x480 with 1 Axes>"
      ]
     },
     "metadata": {},
     "output_type": "display_data"
    }
   ],
   "source": [
    "plt.scatter(df['SepalWidthCm'],df['PetalLengthCm'],c=df['Species'],cmap='winter')"
   ]
  },
  {
   "cell_type": "code",
   "execution_count": 11,
   "id": "9db6758e",
   "metadata": {
    "execution": {
     "iopub.execute_input": "2023-04-09T13:19:53.860492Z",
     "iopub.status.busy": "2023-04-09T13:19:53.860028Z",
     "iopub.status.idle": "2023-04-09T13:19:53.879357Z",
     "shell.execute_reply": "2023-04-09T13:19:53.877863Z"
    },
    "papermill": {
     "duration": 0.035982,
     "end_time": "2023-04-09T13:19:53.882717",
     "exception": false,
     "start_time": "2023-04-09T13:19:53.846735",
     "status": "completed"
    },
    "tags": []
   },
   "outputs": [
    {
     "data": {
      "text/html": [
       "<div>\n",
       "<style scoped>\n",
       "    .dataframe tbody tr th:only-of-type {\n",
       "        vertical-align: middle;\n",
       "    }\n",
       "\n",
       "    .dataframe tbody tr th {\n",
       "        vertical-align: top;\n",
       "    }\n",
       "\n",
       "    .dataframe thead th {\n",
       "        text-align: right;\n",
       "    }\n",
       "</style>\n",
       "<table border=\"1\" class=\"dataframe\">\n",
       "  <thead>\n",
       "    <tr style=\"text-align: right;\">\n",
       "      <th></th>\n",
       "      <th>SepalWidthCm</th>\n",
       "      <th>PetalLengthCm</th>\n",
       "      <th>Species</th>\n",
       "    </tr>\n",
       "  </thead>\n",
       "  <tbody>\n",
       "    <tr>\n",
       "      <th>69</th>\n",
       "      <td>2.5</td>\n",
       "      <td>3.9</td>\n",
       "      <td>1</td>\n",
       "    </tr>\n",
       "    <tr>\n",
       "      <th>102</th>\n",
       "      <td>3.0</td>\n",
       "      <td>5.9</td>\n",
       "      <td>2</td>\n",
       "    </tr>\n",
       "    <tr>\n",
       "      <th>125</th>\n",
       "      <td>3.2</td>\n",
       "      <td>6.0</td>\n",
       "      <td>2</td>\n",
       "    </tr>\n",
       "    <tr>\n",
       "      <th>83</th>\n",
       "      <td>2.7</td>\n",
       "      <td>5.1</td>\n",
       "      <td>1</td>\n",
       "    </tr>\n",
       "    <tr>\n",
       "      <th>141</th>\n",
       "      <td>3.1</td>\n",
       "      <td>5.1</td>\n",
       "      <td>2</td>\n",
       "    </tr>\n",
       "    <tr>\n",
       "      <th>...</th>\n",
       "      <td>...</td>\n",
       "      <td>...</td>\n",
       "      <td>...</td>\n",
       "    </tr>\n",
       "    <tr>\n",
       "      <th>57</th>\n",
       "      <td>2.4</td>\n",
       "      <td>3.3</td>\n",
       "      <td>1</td>\n",
       "    </tr>\n",
       "    <tr>\n",
       "      <th>65</th>\n",
       "      <td>3.1</td>\n",
       "      <td>4.4</td>\n",
       "      <td>1</td>\n",
       "    </tr>\n",
       "    <tr>\n",
       "      <th>132</th>\n",
       "      <td>2.8</td>\n",
       "      <td>5.6</td>\n",
       "      <td>2</td>\n",
       "    </tr>\n",
       "    <tr>\n",
       "      <th>118</th>\n",
       "      <td>2.6</td>\n",
       "      <td>6.9</td>\n",
       "      <td>2</td>\n",
       "    </tr>\n",
       "    <tr>\n",
       "      <th>139</th>\n",
       "      <td>3.1</td>\n",
       "      <td>5.4</td>\n",
       "      <td>2</td>\n",
       "    </tr>\n",
       "  </tbody>\n",
       "</table>\n",
       "<p>100 rows × 3 columns</p>\n",
       "</div>"
      ],
      "text/plain": [
       "     SepalWidthCm  PetalLengthCm  Species\n",
       "69            2.5            3.9        1\n",
       "102           3.0            5.9        2\n",
       "125           3.2            6.0        2\n",
       "83            2.7            5.1        1\n",
       "141           3.1            5.1        2\n",
       "..            ...            ...      ...\n",
       "57            2.4            3.3        1\n",
       "65            3.1            4.4        1\n",
       "132           2.8            5.6        2\n",
       "118           2.6            6.9        2\n",
       "139           3.1            5.4        2\n",
       "\n",
       "[100 rows x 3 columns]"
      ]
     },
     "execution_count": 11,
     "metadata": {},
     "output_type": "execute_result"
    }
   ],
   "source": [
    "#randomly dividing the sample\n",
    "df.sample(100)"
   ]
  },
  {
   "cell_type": "code",
   "execution_count": 12,
   "id": "5b7d778c",
   "metadata": {
    "execution": {
     "iopub.execute_input": "2023-04-09T13:19:53.908790Z",
     "iopub.status.busy": "2023-04-09T13:19:53.908370Z",
     "iopub.status.idle": "2023-04-09T13:19:53.916880Z",
     "shell.execute_reply": "2023-04-09T13:19:53.915418Z"
    },
    "papermill": {
     "duration": 0.024637,
     "end_time": "2023-04-09T13:19:53.919531",
     "exception": false,
     "start_time": "2023-04-09T13:19:53.894894",
     "status": "completed"
    },
    "tags": []
   },
   "outputs": [],
   "source": [
    "df=df.sample(100)\n",
    "df_train=df.iloc[:60,:].sample(10)#pehele 60 rows mai se 10 random rows out\n",
    "df_val=df.iloc[60:80,:].sample(5)\n",
    "df_test=df.iloc[80:,:].sample(5)\n"
   ]
  },
  {
   "cell_type": "code",
   "execution_count": 13,
   "id": "6032684e",
   "metadata": {
    "execution": {
     "iopub.execute_input": "2023-04-09T13:19:53.945233Z",
     "iopub.status.busy": "2023-04-09T13:19:53.944754Z",
     "iopub.status.idle": "2023-04-09T13:19:53.960117Z",
     "shell.execute_reply": "2023-04-09T13:19:53.958542Z"
    },
    "papermill": {
     "duration": 0.031753,
     "end_time": "2023-04-09T13:19:53.963245",
     "exception": false,
     "start_time": "2023-04-09T13:19:53.931492",
     "status": "completed"
    },
    "tags": []
   },
   "outputs": [
    {
     "data": {
      "text/html": [
       "<div>\n",
       "<style scoped>\n",
       "    .dataframe tbody tr th:only-of-type {\n",
       "        vertical-align: middle;\n",
       "    }\n",
       "\n",
       "    .dataframe tbody tr th {\n",
       "        vertical-align: top;\n",
       "    }\n",
       "\n",
       "    .dataframe thead th {\n",
       "        text-align: right;\n",
       "    }\n",
       "</style>\n",
       "<table border=\"1\" class=\"dataframe\">\n",
       "  <thead>\n",
       "    <tr style=\"text-align: right;\">\n",
       "      <th></th>\n",
       "      <th>SepalWidthCm</th>\n",
       "      <th>PetalLengthCm</th>\n",
       "      <th>Species</th>\n",
       "    </tr>\n",
       "  </thead>\n",
       "  <tbody>\n",
       "    <tr>\n",
       "      <th>120</th>\n",
       "      <td>3.2</td>\n",
       "      <td>5.7</td>\n",
       "      <td>2</td>\n",
       "    </tr>\n",
       "    <tr>\n",
       "      <th>67</th>\n",
       "      <td>2.7</td>\n",
       "      <td>4.1</td>\n",
       "      <td>1</td>\n",
       "    </tr>\n",
       "    <tr>\n",
       "      <th>64</th>\n",
       "      <td>2.9</td>\n",
       "      <td>3.6</td>\n",
       "      <td>1</td>\n",
       "    </tr>\n",
       "    <tr>\n",
       "      <th>128</th>\n",
       "      <td>2.8</td>\n",
       "      <td>5.6</td>\n",
       "      <td>2</td>\n",
       "    </tr>\n",
       "    <tr>\n",
       "      <th>91</th>\n",
       "      <td>3.0</td>\n",
       "      <td>4.6</td>\n",
       "      <td>1</td>\n",
       "    </tr>\n",
       "    <tr>\n",
       "      <th>126</th>\n",
       "      <td>2.8</td>\n",
       "      <td>4.8</td>\n",
       "      <td>2</td>\n",
       "    </tr>\n",
       "    <tr>\n",
       "      <th>109</th>\n",
       "      <td>3.6</td>\n",
       "      <td>6.1</td>\n",
       "      <td>2</td>\n",
       "    </tr>\n",
       "    <tr>\n",
       "      <th>102</th>\n",
       "      <td>3.0</td>\n",
       "      <td>5.9</td>\n",
       "      <td>2</td>\n",
       "    </tr>\n",
       "    <tr>\n",
       "      <th>95</th>\n",
       "      <td>3.0</td>\n",
       "      <td>4.2</td>\n",
       "      <td>1</td>\n",
       "    </tr>\n",
       "    <tr>\n",
       "      <th>76</th>\n",
       "      <td>2.8</td>\n",
       "      <td>4.8</td>\n",
       "      <td>1</td>\n",
       "    </tr>\n",
       "  </tbody>\n",
       "</table>\n",
       "</div>"
      ],
      "text/plain": [
       "     SepalWidthCm  PetalLengthCm  Species\n",
       "120           3.2            5.7        2\n",
       "67            2.7            4.1        1\n",
       "64            2.9            3.6        1\n",
       "128           2.8            5.6        2\n",
       "91            3.0            4.6        1\n",
       "126           2.8            4.8        2\n",
       "109           3.6            6.1        2\n",
       "102           3.0            5.9        2\n",
       "95            3.0            4.2        1\n",
       "76            2.8            4.8        1"
      ]
     },
     "execution_count": 13,
     "metadata": {},
     "output_type": "execute_result"
    }
   ],
   "source": [
    "df_train"
   ]
  },
  {
   "cell_type": "code",
   "execution_count": 14,
   "id": "c5693b7c",
   "metadata": {
    "execution": {
     "iopub.execute_input": "2023-04-09T13:19:53.990520Z",
     "iopub.status.busy": "2023-04-09T13:19:53.990090Z",
     "iopub.status.idle": "2023-04-09T13:19:54.002563Z",
     "shell.execute_reply": "2023-04-09T13:19:54.001464Z"
    },
    "papermill": {
     "duration": 0.029148,
     "end_time": "2023-04-09T13:19:54.004935",
     "exception": false,
     "start_time": "2023-04-09T13:19:53.975787",
     "status": "completed"
    },
    "tags": []
   },
   "outputs": [
    {
     "data": {
      "text/html": [
       "<div>\n",
       "<style scoped>\n",
       "    .dataframe tbody tr th:only-of-type {\n",
       "        vertical-align: middle;\n",
       "    }\n",
       "\n",
       "    .dataframe tbody tr th {\n",
       "        vertical-align: top;\n",
       "    }\n",
       "\n",
       "    .dataframe thead th {\n",
       "        text-align: right;\n",
       "    }\n",
       "</style>\n",
       "<table border=\"1\" class=\"dataframe\">\n",
       "  <thead>\n",
       "    <tr style=\"text-align: right;\">\n",
       "      <th></th>\n",
       "      <th>SepalWidthCm</th>\n",
       "      <th>PetalLengthCm</th>\n",
       "      <th>Species</th>\n",
       "    </tr>\n",
       "  </thead>\n",
       "  <tbody>\n",
       "    <tr>\n",
       "      <th>112</th>\n",
       "      <td>3.0</td>\n",
       "      <td>5.5</td>\n",
       "      <td>2</td>\n",
       "    </tr>\n",
       "    <tr>\n",
       "      <th>74</th>\n",
       "      <td>2.9</td>\n",
       "      <td>4.3</td>\n",
       "      <td>1</td>\n",
       "    </tr>\n",
       "    <tr>\n",
       "      <th>68</th>\n",
       "      <td>2.2</td>\n",
       "      <td>4.5</td>\n",
       "      <td>1</td>\n",
       "    </tr>\n",
       "    <tr>\n",
       "      <th>141</th>\n",
       "      <td>3.1</td>\n",
       "      <td>5.1</td>\n",
       "      <td>2</td>\n",
       "    </tr>\n",
       "    <tr>\n",
       "      <th>94</th>\n",
       "      <td>2.7</td>\n",
       "      <td>4.2</td>\n",
       "      <td>1</td>\n",
       "    </tr>\n",
       "  </tbody>\n",
       "</table>\n",
       "</div>"
      ],
      "text/plain": [
       "     SepalWidthCm  PetalLengthCm  Species\n",
       "112           3.0            5.5        2\n",
       "74            2.9            4.3        1\n",
       "68            2.2            4.5        1\n",
       "141           3.1            5.1        2\n",
       "94            2.7            4.2        1"
      ]
     },
     "execution_count": 14,
     "metadata": {},
     "output_type": "execute_result"
    }
   ],
   "source": [
    "df_val"
   ]
  },
  {
   "cell_type": "code",
   "execution_count": 15,
   "id": "04824279",
   "metadata": {
    "execution": {
     "iopub.execute_input": "2023-04-09T13:19:54.031349Z",
     "iopub.status.busy": "2023-04-09T13:19:54.030908Z",
     "iopub.status.idle": "2023-04-09T13:19:54.043926Z",
     "shell.execute_reply": "2023-04-09T13:19:54.042496Z"
    },
    "papermill": {
     "duration": 0.029536,
     "end_time": "2023-04-09T13:19:54.046725",
     "exception": false,
     "start_time": "2023-04-09T13:19:54.017189",
     "status": "completed"
    },
    "tags": []
   },
   "outputs": [
    {
     "data": {
      "text/html": [
       "<div>\n",
       "<style scoped>\n",
       "    .dataframe tbody tr th:only-of-type {\n",
       "        vertical-align: middle;\n",
       "    }\n",
       "\n",
       "    .dataframe tbody tr th {\n",
       "        vertical-align: top;\n",
       "    }\n",
       "\n",
       "    .dataframe thead th {\n",
       "        text-align: right;\n",
       "    }\n",
       "</style>\n",
       "<table border=\"1\" class=\"dataframe\">\n",
       "  <thead>\n",
       "    <tr style=\"text-align: right;\">\n",
       "      <th></th>\n",
       "      <th>SepalWidthCm</th>\n",
       "      <th>PetalLengthCm</th>\n",
       "      <th>Species</th>\n",
       "    </tr>\n",
       "  </thead>\n",
       "  <tbody>\n",
       "    <tr>\n",
       "      <th>104</th>\n",
       "      <td>3.0</td>\n",
       "      <td>5.8</td>\n",
       "      <td>2</td>\n",
       "    </tr>\n",
       "    <tr>\n",
       "      <th>133</th>\n",
       "      <td>2.8</td>\n",
       "      <td>5.1</td>\n",
       "      <td>2</td>\n",
       "    </tr>\n",
       "    <tr>\n",
       "      <th>122</th>\n",
       "      <td>2.8</td>\n",
       "      <td>6.7</td>\n",
       "      <td>2</td>\n",
       "    </tr>\n",
       "    <tr>\n",
       "      <th>137</th>\n",
       "      <td>3.1</td>\n",
       "      <td>5.5</td>\n",
       "      <td>2</td>\n",
       "    </tr>\n",
       "    <tr>\n",
       "      <th>53</th>\n",
       "      <td>2.3</td>\n",
       "      <td>4.0</td>\n",
       "      <td>1</td>\n",
       "    </tr>\n",
       "  </tbody>\n",
       "</table>\n",
       "</div>"
      ],
      "text/plain": [
       "     SepalWidthCm  PetalLengthCm  Species\n",
       "104           3.0            5.8        2\n",
       "133           2.8            5.1        2\n",
       "122           2.8            6.7        2\n",
       "137           3.1            5.5        2\n",
       "53            2.3            4.0        1"
      ]
     },
     "execution_count": 15,
     "metadata": {},
     "output_type": "execute_result"
    }
   ],
   "source": [
    "df_test"
   ]
  },
  {
   "cell_type": "code",
   "execution_count": 16,
   "id": "ac518a69",
   "metadata": {
    "execution": {
     "iopub.execute_input": "2023-04-09T13:19:54.074799Z",
     "iopub.status.busy": "2023-04-09T13:19:54.073781Z",
     "iopub.status.idle": "2023-04-09T13:19:54.079592Z",
     "shell.execute_reply": "2023-04-09T13:19:54.078493Z"
    },
    "papermill": {
     "duration": 0.022449,
     "end_time": "2023-04-09T13:19:54.082190",
     "exception": false,
     "start_time": "2023-04-09T13:19:54.059741",
     "status": "completed"
    },
    "tags": []
   },
   "outputs": [],
   "source": [
    "X_test=df_val.iloc[:,0:2].values\n",
    "y_test=df_val.iloc[:,-1].values"
   ]
  },
  {
   "cell_type": "code",
   "execution_count": 17,
   "id": "bbd4962e",
   "metadata": {
    "execution": {
     "iopub.execute_input": "2023-04-09T13:19:54.109707Z",
     "iopub.status.busy": "2023-04-09T13:19:54.108483Z",
     "iopub.status.idle": "2023-04-09T13:19:54.115698Z",
     "shell.execute_reply": "2023-04-09T13:19:54.114600Z"
    },
    "papermill": {
     "duration": 0.023697,
     "end_time": "2023-04-09T13:19:54.118293",
     "exception": false,
     "start_time": "2023-04-09T13:19:54.094596",
     "status": "completed"
    },
    "tags": []
   },
   "outputs": [
    {
     "data": {
      "text/plain": [
       "array([[3. , 5.5],\n",
       "       [2.9, 4.3],\n",
       "       [2.2, 4.5],\n",
       "       [3.1, 5.1],\n",
       "       [2.7, 4.2]])"
      ]
     },
     "execution_count": 17,
     "metadata": {},
     "output_type": "execute_result"
    }
   ],
   "source": [
    "X_test"
   ]
  },
  {
   "cell_type": "code",
   "execution_count": 18,
   "id": "ef630c55",
   "metadata": {
    "execution": {
     "iopub.execute_input": "2023-04-09T13:19:54.146460Z",
     "iopub.status.busy": "2023-04-09T13:19:54.145161Z",
     "iopub.status.idle": "2023-04-09T13:19:54.152379Z",
     "shell.execute_reply": "2023-04-09T13:19:54.151256Z"
    },
    "papermill": {
     "duration": 0.023736,
     "end_time": "2023-04-09T13:19:54.154691",
     "exception": false,
     "start_time": "2023-04-09T13:19:54.130955",
     "status": "completed"
    },
    "tags": []
   },
   "outputs": [
    {
     "data": {
      "text/plain": [
       "array([2, 1, 1, 2, 1])"
      ]
     },
     "execution_count": 18,
     "metadata": {},
     "output_type": "execute_result"
    }
   ],
   "source": [
    "y_test"
   ]
  },
  {
   "cell_type": "markdown",
   "id": "2df05187",
   "metadata": {
    "papermill": {
     "duration": 0.012586,
     "end_time": "2023-04-09T13:19:54.180199",
     "exception": false,
     "start_time": "2023-04-09T13:19:54.167613",
     "status": "completed"
    },
    "tags": []
   },
   "source": [
    "BAGGING"
   ]
  },
  {
   "cell_type": "markdown",
   "id": "7a58f2a5",
   "metadata": {
    "papermill": {
     "duration": 0.012612,
     "end_time": "2023-04-09T13:19:54.205399",
     "exception": false,
     "start_time": "2023-04-09T13:19:54.192787",
     "status": "completed"
    },
    "tags": []
   },
   "source": [
    "**DATA FOR TREE ONE**"
   ]
  },
  {
   "cell_type": "code",
   "execution_count": 19,
   "id": "c584650b",
   "metadata": {
    "execution": {
     "iopub.execute_input": "2023-04-09T13:19:54.233557Z",
     "iopub.status.busy": "2023-04-09T13:19:54.232304Z",
     "iopub.status.idle": "2023-04-09T13:19:54.249011Z",
     "shell.execute_reply": "2023-04-09T13:19:54.248105Z"
    },
    "papermill": {
     "duration": 0.033302,
     "end_time": "2023-04-09T13:19:54.251533",
     "exception": false,
     "start_time": "2023-04-09T13:19:54.218231",
     "status": "completed"
    },
    "tags": []
   },
   "outputs": [
    {
     "data": {
      "text/html": [
       "<div>\n",
       "<style scoped>\n",
       "    .dataframe tbody tr th:only-of-type {\n",
       "        vertical-align: middle;\n",
       "    }\n",
       "\n",
       "    .dataframe tbody tr th {\n",
       "        vertical-align: top;\n",
       "    }\n",
       "\n",
       "    .dataframe thead th {\n",
       "        text-align: right;\n",
       "    }\n",
       "</style>\n",
       "<table border=\"1\" class=\"dataframe\">\n",
       "  <thead>\n",
       "    <tr style=\"text-align: right;\">\n",
       "      <th></th>\n",
       "      <th>SepalWidthCm</th>\n",
       "      <th>PetalLengthCm</th>\n",
       "      <th>Species</th>\n",
       "    </tr>\n",
       "  </thead>\n",
       "  <tbody>\n",
       "    <tr>\n",
       "      <th>109</th>\n",
       "      <td>3.6</td>\n",
       "      <td>6.1</td>\n",
       "      <td>2</td>\n",
       "    </tr>\n",
       "    <tr>\n",
       "      <th>76</th>\n",
       "      <td>2.8</td>\n",
       "      <td>4.8</td>\n",
       "      <td>1</td>\n",
       "    </tr>\n",
       "    <tr>\n",
       "      <th>102</th>\n",
       "      <td>3.0</td>\n",
       "      <td>5.9</td>\n",
       "      <td>2</td>\n",
       "    </tr>\n",
       "    <tr>\n",
       "      <th>128</th>\n",
       "      <td>2.8</td>\n",
       "      <td>5.6</td>\n",
       "      <td>2</td>\n",
       "    </tr>\n",
       "    <tr>\n",
       "      <th>109</th>\n",
       "      <td>3.6</td>\n",
       "      <td>6.1</td>\n",
       "      <td>2</td>\n",
       "    </tr>\n",
       "    <tr>\n",
       "      <th>67</th>\n",
       "      <td>2.7</td>\n",
       "      <td>4.1</td>\n",
       "      <td>1</td>\n",
       "    </tr>\n",
       "    <tr>\n",
       "      <th>95</th>\n",
       "      <td>3.0</td>\n",
       "      <td>4.2</td>\n",
       "      <td>1</td>\n",
       "    </tr>\n",
       "    <tr>\n",
       "      <th>64</th>\n",
       "      <td>2.9</td>\n",
       "      <td>3.6</td>\n",
       "      <td>1</td>\n",
       "    </tr>\n",
       "  </tbody>\n",
       "</table>\n",
       "</div>"
      ],
      "text/plain": [
       "     SepalWidthCm  PetalLengthCm  Species\n",
       "109           3.6            6.1        2\n",
       "76            2.8            4.8        1\n",
       "102           3.0            5.9        2\n",
       "128           2.8            5.6        2\n",
       "109           3.6            6.1        2\n",
       "67            2.7            4.1        1\n",
       "95            3.0            4.2        1\n",
       "64            2.9            3.6        1"
      ]
     },
     "execution_count": 19,
     "metadata": {},
     "output_type": "execute_result"
    }
   ],
   "source": [
    "df_bag=df_train.sample(8,replace=True)\n",
    "\n",
    "X=df_bag.iloc[:,0:2]\n",
    "y=df_bag.iloc[:,-1]\n",
    "\n",
    "df_bag"
   ]
  },
  {
   "cell_type": "code",
   "execution_count": 20,
   "id": "32eb4a81",
   "metadata": {
    "execution": {
     "iopub.execute_input": "2023-04-09T13:19:54.279640Z",
     "iopub.status.busy": "2023-04-09T13:19:54.278869Z",
     "iopub.status.idle": "2023-04-09T13:19:54.658746Z",
     "shell.execute_reply": "2023-04-09T13:19:54.657517Z"
    },
    "papermill": {
     "duration": 0.397389,
     "end_time": "2023-04-09T13:19:54.661794",
     "exception": false,
     "start_time": "2023-04-09T13:19:54.264405",
     "status": "completed"
    },
    "tags": []
   },
   "outputs": [],
   "source": [
    "from sklearn.tree import DecisionTreeClassifier\n",
    "from sklearn.tree import plot_tree\n",
    "from mlxtend.plotting import plot_decision_regions\n",
    "from sklearn.metrics import accuracy_score"
   ]
  },
  {
   "cell_type": "code",
   "execution_count": 21,
   "id": "bc59c685",
   "metadata": {
    "execution": {
     "iopub.execute_input": "2023-04-09T13:19:54.689128Z",
     "iopub.status.busy": "2023-04-09T13:19:54.688690Z",
     "iopub.status.idle": "2023-04-09T13:19:54.694407Z",
     "shell.execute_reply": "2023-04-09T13:19:54.693006Z"
    },
    "papermill": {
     "duration": 0.022477,
     "end_time": "2023-04-09T13:19:54.697050",
     "exception": false,
     "start_time": "2023-04-09T13:19:54.674573",
     "status": "completed"
    },
    "tags": []
   },
   "outputs": [],
   "source": [
    "dt_bag1 = DecisionTreeClassifier()"
   ]
  },
  {
   "cell_type": "code",
   "execution_count": 22,
   "id": "8e8ba7f3",
   "metadata": {
    "execution": {
     "iopub.execute_input": "2023-04-09T13:19:54.726009Z",
     "iopub.status.busy": "2023-04-09T13:19:54.724581Z",
     "iopub.status.idle": "2023-04-09T13:19:54.732324Z",
     "shell.execute_reply": "2023-04-09T13:19:54.730945Z"
    },
    "papermill": {
     "duration": 0.024824,
     "end_time": "2023-04-09T13:19:54.735089",
     "exception": false,
     "start_time": "2023-04-09T13:19:54.710265",
     "status": "completed"
    },
    "tags": []
   },
   "outputs": [],
   "source": [
    "def evaluate(clf,X,y):\n",
    "    clf.fit(X,y)\n",
    "    plot_tree(clf)#flowChart\n",
    "    plt.show()\n",
    "    plot_decision_regions(X.values, y.values, clf=clf, legend=2)\n",
    "    y_pred = clf.predict(X_test)\n",
    "    print(accuracy_score(y_test,y_pred))"
   ]
  },
  {
   "cell_type": "code",
   "execution_count": 23,
   "id": "7fe272bd",
   "metadata": {
    "execution": {
     "iopub.execute_input": "2023-04-09T13:19:54.764190Z",
     "iopub.status.busy": "2023-04-09T13:19:54.762861Z",
     "iopub.status.idle": "2023-04-09T13:19:55.381819Z",
     "shell.execute_reply": "2023-04-09T13:19:55.380784Z"
    },
    "papermill": {
     "duration": 0.636093,
     "end_time": "2023-04-09T13:19:55.384443",
     "exception": false,
     "start_time": "2023-04-09T13:19:54.748350",
     "status": "completed"
    },
    "tags": []
   },
   "outputs": [
    {
     "data": {
      "image/png": "[encoded data removed]",
      "text/plain": [
       "<Figure size 640x480 with 1 Axes>"
      ]
     },
     "metadata": {},
     "output_type": "display_data"
    },
    {
     "name": "stderr",
     "output_type": "stream",
     "text": [
      "/opt/conda/lib/python3.7/site-packages/sklearn/base.py:451: UserWarning: X does not have valid feature names, but DecisionTreeClassifier was fitted with feature names\n",
      "  \"X does not have valid feature names, but\"\n",
      "/opt/conda/lib/python3.7/site-packages/sklearn/base.py:451: UserWarning: X does not have valid feature names, but DecisionTreeClassifier was fitted with feature names\n",
      "  \"X does not have valid feature names, but\"\n"
     ]
    },
    {
     "name": "stdout",
     "output_type": "stream",
     "text": [
      "0.8\n"
     ]
    },
    {
     "data": {
      "image/png": "[encoded data removed]",
      "text/plain": [
       "<Figure size 640x480 with 1 Axes>"
      ]
     },
     "metadata": {},
     "output_type": "display_data"
    }
   ],
   "source": [
    "evaluate(dt_bag1,X,y )"
   ]
  },
  {
   "cell_type": "markdown",
   "id": "1f2eab5b",
   "metadata": {
    "papermill": {
     "duration": 0.013406,
     "end_time": "2023-04-09T13:19:55.412323",
     "exception": false,
     "start_time": "2023-04-09T13:19:55.398917",
     "status": "completed"
    },
    "tags": []
   },
   "source": [
    "**DATA FOR NEXT TREE**"
   ]
  },
  {
   "cell_type": "code",
   "execution_count": 24,
   "id": "7dec4280",
   "metadata": {
    "execution": {
     "iopub.execute_input": "2023-04-09T13:19:55.442200Z",
     "iopub.status.busy": "2023-04-09T13:19:55.441500Z",
     "iopub.status.idle": "2023-04-09T13:19:55.458326Z",
     "shell.execute_reply": "2023-04-09T13:19:55.456926Z"
    },
    "papermill": {
     "duration": 0.03495,
     "end_time": "2023-04-09T13:19:55.460933",
     "exception": false,
     "start_time": "2023-04-09T13:19:55.425983",
     "status": "completed"
    },
    "tags": []
   },
   "outputs": [
    {
     "data": {
      "text/html": [
       "<div>\n",
       "<style scoped>\n",
       "    .dataframe tbody tr th:only-of-type {\n",
       "        vertical-align: middle;\n",
       "    }\n",
       "\n",
       "    .dataframe tbody tr th {\n",
       "        vertical-align: top;\n",
       "    }\n",
       "\n",
       "    .dataframe thead th {\n",
       "        text-align: right;\n",
       "    }\n",
       "</style>\n",
       "<table border=\"1\" class=\"dataframe\">\n",
       "  <thead>\n",
       "    <tr style=\"text-align: right;\">\n",
       "      <th></th>\n",
       "      <th>SepalWidthCm</th>\n",
       "      <th>PetalLengthCm</th>\n",
       "      <th>Species</th>\n",
       "    </tr>\n",
       "  </thead>\n",
       "  <tbody>\n",
       "    <tr>\n",
       "      <th>95</th>\n",
       "      <td>3.0</td>\n",
       "      <td>4.2</td>\n",
       "      <td>1</td>\n",
       "    </tr>\n",
       "    <tr>\n",
       "      <th>120</th>\n",
       "      <td>3.2</td>\n",
       "      <td>5.7</td>\n",
       "      <td>2</td>\n",
       "    </tr>\n",
       "    <tr>\n",
       "      <th>120</th>\n",
       "      <td>3.2</td>\n",
       "      <td>5.7</td>\n",
       "      <td>2</td>\n",
       "    </tr>\n",
       "    <tr>\n",
       "      <th>126</th>\n",
       "      <td>2.8</td>\n",
       "      <td>4.8</td>\n",
       "      <td>2</td>\n",
       "    </tr>\n",
       "    <tr>\n",
       "      <th>102</th>\n",
       "      <td>3.0</td>\n",
       "      <td>5.9</td>\n",
       "      <td>2</td>\n",
       "    </tr>\n",
       "    <tr>\n",
       "      <th>91</th>\n",
       "      <td>3.0</td>\n",
       "      <td>4.6</td>\n",
       "      <td>1</td>\n",
       "    </tr>\n",
       "    <tr>\n",
       "      <th>126</th>\n",
       "      <td>2.8</td>\n",
       "      <td>4.8</td>\n",
       "      <td>2</td>\n",
       "    </tr>\n",
       "    <tr>\n",
       "      <th>102</th>\n",
       "      <td>3.0</td>\n",
       "      <td>5.9</td>\n",
       "      <td>2</td>\n",
       "    </tr>\n",
       "  </tbody>\n",
       "</table>\n",
       "</div>"
      ],
      "text/plain": [
       "     SepalWidthCm  PetalLengthCm  Species\n",
       "95            3.0            4.2        1\n",
       "120           3.2            5.7        2\n",
       "120           3.2            5.7        2\n",
       "126           2.8            4.8        2\n",
       "102           3.0            5.9        2\n",
       "91            3.0            4.6        1\n",
       "126           2.8            4.8        2\n",
       "102           3.0            5.9        2"
      ]
     },
     "execution_count": 24,
     "metadata": {},
     "output_type": "execute_result"
    }
   ],
   "source": [
    "df_bag=df_train.sample(8,replace=True)\n",
    "\n",
    "X=df_bag.iloc[:,0:2]\n",
    "y=df_bag.iloc[:,-1]\n",
    "\n",
    "df_bag"
   ]
  },
  {
   "cell_type": "code",
   "execution_count": 25,
   "id": "cc9a96be",
   "metadata": {
    "execution": {
     "iopub.execute_input": "2023-04-09T13:19:55.490959Z",
     "iopub.status.busy": "2023-04-09T13:19:55.490495Z",
     "iopub.status.idle": "2023-04-09T13:19:55.496322Z",
     "shell.execute_reply": "2023-04-09T13:19:55.495382Z"
    },
    "papermill": {
     "duration": 0.023865,
     "end_time": "2023-04-09T13:19:55.498786",
     "exception": false,
     "start_time": "2023-04-09T13:19:55.474921",
     "status": "completed"
    },
    "tags": []
   },
   "outputs": [],
   "source": [
    "dt_bag2 = DecisionTreeClassifier()"
   ]
  },
  {
   "cell_type": "code",
   "execution_count": 26,
   "id": "55662f75",
   "metadata": {
    "execution": {
     "iopub.execute_input": "2023-04-09T13:19:55.530206Z",
     "iopub.status.busy": "2023-04-09T13:19:55.528807Z",
     "iopub.status.idle": "2023-04-09T13:19:56.094879Z",
     "shell.execute_reply": "2023-04-09T13:19:56.093597Z"
    },
    "papermill": {
     "duration": 0.584867,
     "end_time": "2023-04-09T13:19:56.097552",
     "exception": false,
     "start_time": "2023-04-09T13:19:55.512685",
     "status": "completed"
    },
    "tags": []
   },
   "outputs": [
    {
     "data": {
      "image/png": "[encoded data removed]",
      "text/plain": [
       "<Figure size 640x480 with 1 Axes>"
      ]
     },
     "metadata": {},
     "output_type": "display_data"
    },
    {
     "name": "stderr",
     "output_type": "stream",
     "text": [
      "/opt/conda/lib/python3.7/site-packages/sklearn/base.py:451: UserWarning: X does not have valid feature names, but DecisionTreeClassifier was fitted with feature names\n",
      "  \"X does not have valid feature names, but\"\n",
      "/opt/conda/lib/python3.7/site-packages/sklearn/base.py:451: UserWarning: X does not have valid feature names, but DecisionTreeClassifier was fitted with feature names\n",
      "  \"X does not have valid feature names, but\"\n"
     ]
    },
    {
     "name": "stdout",
     "output_type": "stream",
     "text": [
      "1.0\n"
     ]
    },
    {
     "data": {
      "image/png": "[encoded data removed]",
      "text/plain": [
       "<Figure size 640x480 with 1 Axes>"
      ]
     },
     "metadata": {},
     "output_type": "display_data"
    }
   ],
   "source": [
    "evaluate(dt_bag2,X,y )"
   ]
  },
  {
   "cell_type": "markdown",
   "id": "7872d83d",
   "metadata": {
    "papermill": {
     "duration": 0.014879,
     "end_time": "2023-04-09T13:19:56.127771",
     "exception": false,
     "start_time": "2023-04-09T13:19:56.112892",
     "status": "completed"
    },
    "tags": []
   },
   "source": [
    "**DATA FOR TREE 3**"
   ]
  },
  {
   "cell_type": "code",
   "execution_count": 27,
   "id": "35712093",
   "metadata": {
    "execution": {
     "iopub.execute_input": "2023-04-09T13:19:56.160580Z",
     "iopub.status.busy": "2023-04-09T13:19:56.159620Z",
     "iopub.status.idle": "2023-04-09T13:19:56.166771Z",
     "shell.execute_reply": "2023-04-09T13:19:56.165456Z"
    },
    "papermill": {
     "duration": 0.026849,
     "end_time": "2023-04-09T13:19:56.169651",
     "exception": false,
     "start_time": "2023-04-09T13:19:56.142802",
     "status": "completed"
    },
    "tags": []
   },
   "outputs": [],
   "source": [
    "def evaluate(clf,X,y):\n",
    "    clf.fit(X,y)\n",
    "    plot_tree(clf)#flowChart\n",
    "    plt.show()\n",
    "    plot_decision_regions(X.values, y.values, clf=clf, legend=2)\n",
    "    y_pred = clf.predict(X_test)\n",
    "    print(accuracy_score(y_test,y_pred))"
   ]
  },
  {
   "cell_type": "code",
   "execution_count": 28,
   "id": "8e097f06",
   "metadata": {
    "execution": {
     "iopub.execute_input": "2023-04-09T13:19:56.203304Z",
     "iopub.status.busy": "2023-04-09T13:19:56.202074Z",
     "iopub.status.idle": "2023-04-09T13:19:56.207913Z",
     "shell.execute_reply": "2023-04-09T13:19:56.206588Z"
    },
    "papermill": {
     "duration": 0.025637,
     "end_time": "2023-04-09T13:19:56.210735",
     "exception": false,
     "start_time": "2023-04-09T13:19:56.185098",
     "status": "completed"
    },
    "tags": []
   },
   "outputs": [],
   "source": [
    "dt_bag3 = DecisionTreeClassifier()"
   ]
  },
  {
   "cell_type": "code",
   "execution_count": 29,
   "id": "5845f100",
   "metadata": {
    "execution": {
     "iopub.execute_input": "2023-04-09T13:19:56.243615Z",
     "iopub.status.busy": "2023-04-09T13:19:56.242740Z",
     "iopub.status.idle": "2023-04-09T13:19:56.803170Z",
     "shell.execute_reply": "2023-04-09T13:19:56.801806Z"
    },
    "papermill": {
     "duration": 0.580451,
     "end_time": "2023-04-09T13:19:56.806253",
     "exception": false,
     "start_time": "2023-04-09T13:19:56.225802",
     "status": "completed"
    },
    "tags": []
   },
   "outputs": [
    {
     "data": {
      "image/png": "[encoded data removed]",
      "text/plain": [
       "<Figure size 640x480 with 1 Axes>"
      ]
     },
     "metadata": {},
     "output_type": "display_data"
    },
    {
     "name": "stderr",
     "output_type": "stream",
     "text": [
      "/opt/conda/lib/python3.7/site-packages/sklearn/base.py:451: UserWarning: X does not have valid feature names, but DecisionTreeClassifier was fitted with feature names\n",
      "  \"X does not have valid feature names, but\"\n",
      "/opt/conda/lib/python3.7/site-packages/sklearn/base.py:451: UserWarning: X does not have valid feature names, but DecisionTreeClassifier was fitted with feature names\n",
      "  \"X does not have valid feature names, but\"\n"
     ]
    },
    {
     "name": "stdout",
     "output_type": "stream",
     "text": [
      "1.0\n"
     ]
    },
    {
     "data": {
      "image/png": "[encoded data removed]",
      "text/plain": [
       "<Figure size 640x480 with 1 Axes>"
      ]
     },
     "metadata": {},
     "output_type": "display_data"
    }
   ],
   "source": [
    "evaluate(dt_bag3,X,y )"
   ]
  },
  {
   "cell_type": "markdown",
   "id": "29f5b91c",
   "metadata": {
    "execution": {
     "iopub.execute_input": "2023-04-09T13:09:13.904764Z",
     "iopub.status.busy": "2023-04-09T13:09:13.904306Z",
     "iopub.status.idle": "2023-04-09T13:09:13.922388Z",
     "shell.execute_reply": "2023-04-09T13:09:13.921168Z",
     "shell.execute_reply.started": "2023-04-09T13:09:13.904726Z"
    },
    "papermill": {
     "duration": 0.017033,
     "end_time": "2023-04-09T13:19:56.839747",
     "exception": false,
     "start_time": "2023-04-09T13:19:56.822714",
     "status": "completed"
    },
    "tags": []
   },
   "source": [
    "**PREDICTION/AGGRATIONAPRT**"
   ]
  },
  {
   "cell_type": "code",
   "execution_count": 30,
   "id": "e4781223",
   "metadata": {
    "execution": {
     "iopub.execute_input": "2023-04-09T13:19:56.874207Z",
     "iopub.status.busy": "2023-04-09T13:19:56.873279Z",
     "iopub.status.idle": "2023-04-09T13:19:56.884272Z",
     "shell.execute_reply": "2023-04-09T13:19:56.883319Z"
    },
    "papermill": {
     "duration": 0.030687,
     "end_time": "2023-04-09T13:19:56.886561",
     "exception": false,
     "start_time": "2023-04-09T13:19:56.855874",
     "status": "completed"
    },
    "tags": []
   },
   "outputs": [
    {
     "data": {
      "text/html": [
       "<div>\n",
       "<style scoped>\n",
       "    .dataframe tbody tr th:only-of-type {\n",
       "        vertical-align: middle;\n",
       "    }\n",
       "\n",
       "    .dataframe tbody tr th {\n",
       "        vertical-align: top;\n",
       "    }\n",
       "\n",
       "    .dataframe thead th {\n",
       "        text-align: right;\n",
       "    }\n",
       "</style>\n",
       "<table border=\"1\" class=\"dataframe\">\n",
       "  <thead>\n",
       "    <tr style=\"text-align: right;\">\n",
       "      <th></th>\n",
       "      <th>SepalWidthCm</th>\n",
       "      <th>PetalLengthCm</th>\n",
       "      <th>Species</th>\n",
       "    </tr>\n",
       "  </thead>\n",
       "  <tbody>\n",
       "    <tr>\n",
       "      <th>104</th>\n",
       "      <td>3.0</td>\n",
       "      <td>5.8</td>\n",
       "      <td>2</td>\n",
       "    </tr>\n",
       "    <tr>\n",
       "      <th>133</th>\n",
       "      <td>2.8</td>\n",
       "      <td>5.1</td>\n",
       "      <td>2</td>\n",
       "    </tr>\n",
       "    <tr>\n",
       "      <th>122</th>\n",
       "      <td>2.8</td>\n",
       "      <td>6.7</td>\n",
       "      <td>2</td>\n",
       "    </tr>\n",
       "    <tr>\n",
       "      <th>137</th>\n",
       "      <td>3.1</td>\n",
       "      <td>5.5</td>\n",
       "      <td>2</td>\n",
       "    </tr>\n",
       "    <tr>\n",
       "      <th>53</th>\n",
       "      <td>2.3</td>\n",
       "      <td>4.0</td>\n",
       "      <td>1</td>\n",
       "    </tr>\n",
       "  </tbody>\n",
       "</table>\n",
       "</div>"
      ],
      "text/plain": [
       "     SepalWidthCm  PetalLengthCm  Species\n",
       "104           3.0            5.8        2\n",
       "133           2.8            5.1        2\n",
       "122           2.8            6.7        2\n",
       "137           3.1            5.5        2\n",
       "53            2.3            4.0        1"
      ]
     },
     "execution_count": 30,
     "metadata": {},
     "output_type": "execute_result"
    }
   ],
   "source": [
    "df_test"
   ]
  },
  {
   "cell_type": "markdown",
   "id": "a24880e9",
   "metadata": {
    "papermill": {
     "duration": 0.015813,
     "end_time": "2023-04-09T13:19:56.918558",
     "exception": false,
     "start_time": "2023-04-09T13:19:56.902745",
     "status": "completed"
    },
    "tags": []
   },
   "source": [
    "down below we are trying to figure out the the answer by giving individual input to\n",
    "all the decision tree"
   ]
  },
  {
   "cell_type": "code",
   "execution_count": 31,
   "id": "2385acfb",
   "metadata": {
    "execution": {
     "iopub.execute_input": "2023-04-09T13:19:56.953837Z",
     "iopub.status.busy": "2023-04-09T13:19:56.953007Z",
     "iopub.status.idle": "2023-04-09T13:19:56.962047Z",
     "shell.execute_reply": "2023-04-09T13:19:56.960937Z"
    },
    "papermill": {
     "duration": 0.02967,
     "end_time": "2023-04-09T13:19:56.964524",
     "exception": false,
     "start_time": "2023-04-09T13:19:56.934854",
     "status": "completed"
    },
    "tags": []
   },
   "outputs": [
    {
     "name": "stdout",
     "output_type": "stream",
     "text": [
      "Predictor 1 [2]\n",
      "Predictor 2 [2]\n",
      "Predictor 3 [2]\n"
     ]
    },
    {
     "name": "stderr",
     "output_type": "stream",
     "text": [
      "/opt/conda/lib/python3.7/site-packages/sklearn/base.py:451: UserWarning: X does not have valid feature names, but DecisionTreeClassifier was fitted with feature names\n",
      "  \"X does not have valid feature names, but\"\n",
      "/opt/conda/lib/python3.7/site-packages/sklearn/base.py:451: UserWarning: X does not have valid feature names, but DecisionTreeClassifier was fitted with feature names\n",
      "  \"X does not have valid feature names, but\"\n",
      "/opt/conda/lib/python3.7/site-packages/sklearn/base.py:451: UserWarning: X does not have valid feature names, but DecisionTreeClassifier was fitted with feature names\n",
      "  \"X does not have valid feature names, but\"\n"
     ]
    }
   ],
   "source": [
    "print(\"Predictor 1\",dt_bag1.predict(np.array([2.9,5.6]).reshape(1,2)))\n",
    "print(\"Predictor 2\",dt_bag2.predict(np.array([2.9,5.6]).reshape(1,2)))\n",
    "print(\"Predictor 3\",dt_bag3.predict(np.array([2.9,5.6]).reshape(1,2)))"
   ]
  },
  {
   "cell_type": "code",
   "execution_count": 32,
   "id": "3a90561a",
   "metadata": {
    "execution": {
     "iopub.execute_input": "2023-04-09T13:19:56.999876Z",
     "iopub.status.busy": "2023-04-09T13:19:56.999000Z",
     "iopub.status.idle": "2023-04-09T13:19:57.008995Z",
     "shell.execute_reply": "2023-04-09T13:19:57.007595Z"
    },
    "papermill": {
     "duration": 0.030487,
     "end_time": "2023-04-09T13:19:57.011587",
     "exception": false,
     "start_time": "2023-04-09T13:19:56.981100",
     "status": "completed"
    },
    "tags": []
   },
   "outputs": [
    {
     "name": "stdout",
     "output_type": "stream",
     "text": [
      "Predictor 1 [1]\n",
      "Predictor 2 [2]\n",
      "Predictor 3 [2]\n"
     ]
    },
    {
     "name": "stderr",
     "output_type": "stream",
     "text": [
      "/opt/conda/lib/python3.7/site-packages/sklearn/base.py:451: UserWarning: X does not have valid feature names, but DecisionTreeClassifier was fitted with feature names\n",
      "  \"X does not have valid feature names, but\"\n",
      "/opt/conda/lib/python3.7/site-packages/sklearn/base.py:451: UserWarning: X does not have valid feature names, but DecisionTreeClassifier was fitted with feature names\n",
      "  \"X does not have valid feature names, but\"\n",
      "/opt/conda/lib/python3.7/site-packages/sklearn/base.py:451: UserWarning: X does not have valid feature names, but DecisionTreeClassifier was fitted with feature names\n",
      "  \"X does not have valid feature names, but\"\n"
     ]
    }
   ],
   "source": [
    "print(\"Predictor 1\",dt_bag1.predict(np.array([2.2,5.0]).reshape(1,2)))\n",
    "print(\"Predictor 2\",dt_bag2.predict(np.array([2.2,5.0]).reshape(1,2)))\n",
    "print(\"Predictor 3\",dt_bag3.predict(np.array([2.2,5.0]).reshape(1,2)))"
   ]
  },
  {
   "cell_type": "markdown",
   "id": "ee5a664e",
   "metadata": {
    "execution": {
     "iopub.execute_input": "2023-04-09T13:15:18.293348Z",
     "iopub.status.busy": "2023-04-09T13:15:18.292872Z",
     "iopub.status.idle": "2023-04-09T13:15:18.301710Z",
     "shell.execute_reply": "2023-04-09T13:15:18.300068Z",
     "shell.execute_reply.started": "2023-04-09T13:15:18.293289Z"
    },
    "papermill": {
     "duration": 0.017179,
     "end_time": "2023-04-09T13:19:57.045733",
     "exception": false,
     "start_time": "2023-04-09T13:19:57.028554",
     "status": "completed"
    },
    "tags": []
   },
   "source": [
    "**PASTING -->HERE ALSO WE DO ROW SAMPLING BUT WITHOUT REPLACEMENT**"
   ]
  },
  {
   "cell_type": "markdown",
   "id": "24c0d4e6",
   "metadata": {
    "papermill": {
     "duration": 0.017343,
     "end_time": "2023-04-09T13:19:57.080192",
     "exception": false,
     "start_time": "2023-04-09T13:19:57.062849",
     "status": "completed"
    },
    "tags": []
   },
   "source": [
    "**RANDOM SUBSPACES-->WE DO COLUMN SAMPLING**"
   ]
  },
  {
   "cell_type": "code",
   "execution_count": 33,
   "id": "1e4771fe",
   "metadata": {
    "execution": {
     "iopub.execute_input": "2023-04-09T13:19:57.116097Z",
     "iopub.status.busy": "2023-04-09T13:19:57.115270Z",
     "iopub.status.idle": "2023-04-09T13:19:57.124911Z",
     "shell.execute_reply": "2023-04-09T13:19:57.123533Z"
    },
    "papermill": {
     "duration": 0.030794,
     "end_time": "2023-04-09T13:19:57.127656",
     "exception": false,
     "start_time": "2023-04-09T13:19:57.096862",
     "status": "completed"
    },
    "tags": []
   },
   "outputs": [],
   "source": [
    "df1 = pd.read_csv('/kaggle/input/iris/Iris.csv')\n",
    "df1 = df1.sample(10)"
   ]
  },
  {
   "cell_type": "code",
   "execution_count": 34,
   "id": "79bb4813",
   "metadata": {
    "execution": {
     "iopub.execute_input": "2023-04-09T13:19:57.162911Z",
     "iopub.status.busy": "2023-04-09T13:19:57.162128Z",
     "iopub.status.idle": "2023-04-09T13:19:57.174560Z",
     "shell.execute_reply": "2023-04-09T13:19:57.173418Z"
    },
    "papermill": {
     "duration": 0.032683,
     "end_time": "2023-04-09T13:19:57.176993",
     "exception": false,
     "start_time": "2023-04-09T13:19:57.144310",
     "status": "completed"
    },
    "tags": []
   },
   "outputs": [
    {
     "data": {
      "text/html": [
       "<div>\n",
       "<style scoped>\n",
       "    .dataframe tbody tr th:only-of-type {\n",
       "        vertical-align: middle;\n",
       "    }\n",
       "\n",
       "    .dataframe tbody tr th {\n",
       "        vertical-align: top;\n",
       "    }\n",
       "\n",
       "    .dataframe thead th {\n",
       "        text-align: right;\n",
       "    }\n",
       "</style>\n",
       "<table border=\"1\" class=\"dataframe\">\n",
       "  <thead>\n",
       "    <tr style=\"text-align: right;\">\n",
       "      <th></th>\n",
       "      <th>PetalLengthCm</th>\n",
       "      <th>PetalWidthCm</th>\n",
       "    </tr>\n",
       "  </thead>\n",
       "  <tbody>\n",
       "    <tr>\n",
       "      <th>108</th>\n",
       "      <td>5.8</td>\n",
       "      <td>1.8</td>\n",
       "    </tr>\n",
       "    <tr>\n",
       "      <th>53</th>\n",
       "      <td>4.0</td>\n",
       "      <td>1.3</td>\n",
       "    </tr>\n",
       "    <tr>\n",
       "      <th>35</th>\n",
       "      <td>1.2</td>\n",
       "      <td>0.2</td>\n",
       "    </tr>\n",
       "    <tr>\n",
       "      <th>84</th>\n",
       "      <td>4.5</td>\n",
       "      <td>1.5</td>\n",
       "    </tr>\n",
       "    <tr>\n",
       "      <th>33</th>\n",
       "      <td>1.4</td>\n",
       "      <td>0.2</td>\n",
       "    </tr>\n",
       "    <tr>\n",
       "      <th>123</th>\n",
       "      <td>4.9</td>\n",
       "      <td>1.8</td>\n",
       "    </tr>\n",
       "    <tr>\n",
       "      <th>138</th>\n",
       "      <td>4.8</td>\n",
       "      <td>1.8</td>\n",
       "    </tr>\n",
       "    <tr>\n",
       "      <th>145</th>\n",
       "      <td>5.2</td>\n",
       "      <td>2.3</td>\n",
       "    </tr>\n",
       "    <tr>\n",
       "      <th>23</th>\n",
       "      <td>1.7</td>\n",
       "      <td>0.5</td>\n",
       "    </tr>\n",
       "    <tr>\n",
       "      <th>107</th>\n",
       "      <td>6.3</td>\n",
       "      <td>1.8</td>\n",
       "    </tr>\n",
       "  </tbody>\n",
       "</table>\n",
       "</div>"
      ],
      "text/plain": [
       "     PetalLengthCm  PetalWidthCm\n",
       "108            5.8           1.8\n",
       "53             4.0           1.3\n",
       "35             1.2           0.2\n",
       "84             4.5           1.5\n",
       "33             1.4           0.2\n",
       "123            4.9           1.8\n",
       "138            4.8           1.8\n",
       "145            5.2           2.3\n",
       "23             1.7           0.5\n",
       "107            6.3           1.8"
      ]
     },
     "execution_count": 34,
     "metadata": {},
     "output_type": "execute_result"
    }
   ],
   "source": [
    "df1.sample(2,replace=True,axis=1)#ASIX 1 SAY TO SAMPLING IN ROW"
   ]
  },
  {
   "cell_type": "markdown",
   "id": "0a9a2026",
   "metadata": {
    "papermill": {
     "duration": 0.016406,
     "end_time": "2023-04-09T13:19:57.210117",
     "exception": false,
     "start_time": "2023-04-09T13:19:57.193711",
     "status": "completed"
    },
    "tags": []
   },
   "source": [
    "**RANDOM PATHCHES-->ROW SAMPLING AND COLUMN SAMPLING**"
   ]
  },
  {
   "cell_type": "code",
   "execution_count": 35,
   "id": "1354f126",
   "metadata": {
    "execution": {
     "iopub.execute_input": "2023-04-09T13:19:57.245329Z",
     "iopub.status.busy": "2023-04-09T13:19:57.244874Z",
     "iopub.status.idle": "2023-04-09T13:19:57.256915Z",
     "shell.execute_reply": "2023-04-09T13:19:57.255658Z"
    },
    "papermill": {
     "duration": 0.033275,
     "end_time": "2023-04-09T13:19:57.259910",
     "exception": false,
     "start_time": "2023-04-09T13:19:57.226635",
     "status": "completed"
    },
    "tags": []
   },
   "outputs": [
    {
     "data": {
      "text/html": [
       "<div>\n",
       "<style scoped>\n",
       "    .dataframe tbody tr th:only-of-type {\n",
       "        vertical-align: middle;\n",
       "    }\n",
       "\n",
       "    .dataframe tbody tr th {\n",
       "        vertical-align: top;\n",
       "    }\n",
       "\n",
       "    .dataframe thead th {\n",
       "        text-align: right;\n",
       "    }\n",
       "</style>\n",
       "<table border=\"1\" class=\"dataframe\">\n",
       "  <thead>\n",
       "    <tr style=\"text-align: right;\">\n",
       "      <th></th>\n",
       "      <th>Species</th>\n",
       "      <th>Species</th>\n",
       "    </tr>\n",
       "  </thead>\n",
       "  <tbody>\n",
       "    <tr>\n",
       "      <th>107</th>\n",
       "      <td>Iris-virginica</td>\n",
       "      <td>Iris-virginica</td>\n",
       "    </tr>\n",
       "    <tr>\n",
       "      <th>53</th>\n",
       "      <td>Iris-versicolor</td>\n",
       "      <td>Iris-versicolor</td>\n",
       "    </tr>\n",
       "    <tr>\n",
       "      <th>53</th>\n",
       "      <td>Iris-versicolor</td>\n",
       "      <td>Iris-versicolor</td>\n",
       "    </tr>\n",
       "    <tr>\n",
       "      <th>53</th>\n",
       "      <td>Iris-versicolor</td>\n",
       "      <td>Iris-versicolor</td>\n",
       "    </tr>\n",
       "    <tr>\n",
       "      <th>84</th>\n",
       "      <td>Iris-versicolor</td>\n",
       "      <td>Iris-versicolor</td>\n",
       "    </tr>\n",
       "    <tr>\n",
       "      <th>33</th>\n",
       "      <td>Iris-setosa</td>\n",
       "      <td>Iris-setosa</td>\n",
       "    </tr>\n",
       "    <tr>\n",
       "      <th>35</th>\n",
       "      <td>Iris-setosa</td>\n",
       "      <td>Iris-setosa</td>\n",
       "    </tr>\n",
       "    <tr>\n",
       "      <th>53</th>\n",
       "      <td>Iris-versicolor</td>\n",
       "      <td>Iris-versicolor</td>\n",
       "    </tr>\n",
       "  </tbody>\n",
       "</table>\n",
       "</div>"
      ],
      "text/plain": [
       "             Species          Species\n",
       "107   Iris-virginica   Iris-virginica\n",
       "53   Iris-versicolor  Iris-versicolor\n",
       "53   Iris-versicolor  Iris-versicolor\n",
       "53   Iris-versicolor  Iris-versicolor\n",
       "84   Iris-versicolor  Iris-versicolor\n",
       "33       Iris-setosa      Iris-setosa\n",
       "35       Iris-setosa      Iris-setosa\n",
       "53   Iris-versicolor  Iris-versicolor"
      ]
     },
     "execution_count": 35,
     "metadata": {},
     "output_type": "execute_result"
    }
   ],
   "source": [
    "#first row than column slection \n",
    "df1.sample(8,replace=True).sample(2,replace=True,axis=1)"
   ]
  },
  {
   "cell_type": "code",
   "execution_count": null,
   "id": "6e8d1a7f",
   "metadata": {
    "papermill": {
     "duration": 0.016507,
     "end_time": "2023-04-09T13:19:57.293202",
     "exception": false,
     "start_time": "2023-04-09T13:19:57.276695",
     "status": "completed"
    },
    "tags": []
   },
   "outputs": [],
   "source": []
  }
 ],
 "metadata": {
  "kernelspec": {
   "display_name": "Python 3",
   "language": "python",
   "name": "python3"
  },
  "language_info": {
   "codemirror_mode": {
    "name": "ipython",
    "version": 3
   },
   "file_extension": ".py",
   "mimetype": "text/x-python",
   "name": "python",
   "nbconvert_exporter": "python",
   "pygments_lexer": "ipython3",
   "version": "3.7.12"
  },
  "papermill": {
   "default_parameters": {},
   "duration": 17.29341,
   "end_time": "2023-04-09T13:19:58.133526",
   "environment_variables": {},
   "exception": null,
   "input_path": "__notebook__.ipynb",
   "output_path": "__notebook__.ipynb",
   "parameters": {},
   "start_time": "2023-04-09T13:19:40.840116",
   "version": "2.4.0"
  }
 },
 "nbformat": 4,
 "nbformat_minor": 5
}
