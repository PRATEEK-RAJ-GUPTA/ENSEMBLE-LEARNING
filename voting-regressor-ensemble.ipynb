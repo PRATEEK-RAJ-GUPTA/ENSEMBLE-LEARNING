{
 "cells": [
  {
   "cell_type": "code",
   "execution_count": 1,
   "id": "5e52a11d",
   "metadata": {
    "_cell_guid": "b1076dfc-b9ad-4769-8c92-a6c4dae69d19",
    "_uuid": "8f2839f25d086af736a60e9eeb907d3b93b6e0e5",
    "execution": {
     "iopub.execute_input": "2023-04-09T12:10:54.533882Z",
     "iopub.status.busy": "2023-04-09T12:10:54.533362Z",
     "iopub.status.idle": "2023-04-09T12:10:54.547570Z",
     "shell.execute_reply": "2023-04-09T12:10:54.546741Z"
    },
    "papermill": {
     "duration": 0.025256,
     "end_time": "2023-04-09T12:10:54.550312",
     "exception": false,
     "start_time": "2023-04-09T12:10:54.525056",
     "status": "completed"
    },
    "tags": []
   },
   "outputs": [],
   "source": [
    "# This Python 3 environment comes with many helpful analytics libraries installed\n",
    "# It is defined by the kaggle/python Docker image: https://github.com/kaggle/docker-python\n",
    "# For example, here's several helpful packages to load\n",
    "\n",
    "import numpy as np # linear algebra\n",
    "import pandas as pd # data processing, CSV file I/O (e.g. pd.read_csv)\n",
    "\n",
    "# Input data files are available in the read-only \"../input/\" directory\n",
    "# For example, running this (by clicking run or pressing Shift+Enter) will list all files under the input directory\n",
    "\n",
    "import os\n",
    "for dirname, _, filenames in os.walk('/kaggle/input'):\n",
    "    for filename in filenames:\n",
    "        print(os.path.join(dirname, filename))\n",
    "\n",
    "# You can write up to 20GB to the current directory (/kaggle/working/) that gets preserved as output when you create a version using \"Save & Run All\" \n",
    "# You can also write temporary files to /kaggle/temp/, but they won't be saved outside of the current session"
   ]
  },
  {
   "cell_type": "code",
   "execution_count": 2,
   "id": "49c1cdb4",
   "metadata": {
    "execution": {
     "iopub.execute_input": "2023-04-09T12:10:54.562332Z",
     "iopub.status.busy": "2023-04-09T12:10:54.561638Z",
     "iopub.status.idle": "2023-04-09T12:10:55.571725Z",
     "shell.execute_reply": "2023-04-09T12:10:55.570510Z"
    },
    "papermill": {
     "duration": 1.019002,
     "end_time": "2023-04-09T12:10:55.574689",
     "exception": false,
     "start_time": "2023-04-09T12:10:54.555687",
     "status": "completed"
    },
    "tags": []
   },
   "outputs": [],
   "source": [
    "from sklearn.datasets import load_boston\n",
    "import numpy as np"
   ]
  },
  {
   "cell_type": "code",
   "execution_count": 3,
   "id": "34e97eaf",
   "metadata": {
    "execution": {
     "iopub.execute_input": "2023-04-09T12:10:55.583152Z",
     "iopub.status.busy": "2023-04-09T12:10:55.582495Z",
     "iopub.status.idle": "2023-04-09T12:10:55.596148Z",
     "shell.execute_reply": "2023-04-09T12:10:55.594724Z"
    },
    "papermill": {
     "duration": 0.021257,
     "end_time": "2023-04-09T12:10:55.599401",
     "exception": false,
     "start_time": "2023-04-09T12:10:55.578144",
     "status": "completed"
    },
    "tags": []
   },
   "outputs": [
    {
     "name": "stderr",
     "output_type": "stream",
     "text": [
      "/opt/conda/lib/python3.7/site-packages/sklearn/utils/deprecation.py:87: FutureWarning: Function load_boston is deprecated; `load_boston` is deprecated in 1.0 and will be removed in 1.2.\n",
      "\n",
      "    The Boston housing prices dataset has an ethical problem. You can refer to\n",
      "    the documentation of this function for further details.\n",
      "\n",
      "    The scikit-learn maintainers therefore strongly discourage the use of this\n",
      "    dataset unless the purpose of the code is to study and educate about\n",
      "    ethical issues in data science and machine learning.\n",
      "\n",
      "    In this special case, you can fetch the dataset from the original\n",
      "    source::\n",
      "\n",
      "        import pandas as pd\n",
      "        import numpy as np\n",
      "\n",
      "\n",
      "        data_url = \"http://lib.stat.cmu.edu/datasets/boston\"\n",
      "        raw_df = pd.read_csv(data_url, sep=\"\\s+\", skiprows=22, header=None)\n",
      "        data = np.hstack([raw_df.values[::2, :], raw_df.values[1::2, :2]])\n",
      "        target = raw_df.values[1::2, 2]\n",
      "\n",
      "    Alternative datasets include the California housing dataset (i.e.\n",
      "    :func:`~sklearn.datasets.fetch_california_housing`) and the Ames housing\n",
      "    dataset. You can load the datasets as follows::\n",
      "\n",
      "        from sklearn.datasets import fetch_california_housing\n",
      "        housing = fetch_california_housing()\n",
      "\n",
      "    for the California housing dataset and::\n",
      "\n",
      "        from sklearn.datasets import fetch_openml\n",
      "        housing = fetch_openml(name=\"house_prices\", as_frame=True)\n",
      "\n",
      "    for the Ames housing dataset.\n",
      "    \n",
      "  warnings.warn(msg, category=FutureWarning)\n"
     ]
    }
   ],
   "source": [
    "X,y=load_boston(return_X_y=True)"
   ]
  },
  {
   "cell_type": "code",
   "execution_count": 4,
   "id": "5d801031",
   "metadata": {
    "execution": {
     "iopub.execute_input": "2023-04-09T12:10:55.608446Z",
     "iopub.status.busy": "2023-04-09T12:10:55.608057Z",
     "iopub.status.idle": "2023-04-09T12:10:55.898350Z",
     "shell.execute_reply": "2023-04-09T12:10:55.897300Z"
    },
    "papermill": {
     "duration": 0.297632,
     "end_time": "2023-04-09T12:10:55.901057",
     "exception": false,
     "start_time": "2023-04-09T12:10:55.603425",
     "status": "completed"
    },
    "tags": []
   },
   "outputs": [],
   "source": [
    "from sklearn.linear_model import LinearRegression\n",
    "from sklearn.tree import DecisionTreeRegressor\n",
    "from sklearn.svm import SVR\n",
    "from sklearn.model_selection import cross_val_score"
   ]
  },
  {
   "cell_type": "code",
   "execution_count": 5,
   "id": "ca957725",
   "metadata": {
    "execution": {
     "iopub.execute_input": "2023-04-09T12:10:55.910308Z",
     "iopub.status.busy": "2023-04-09T12:10:55.909922Z",
     "iopub.status.idle": "2023-04-09T12:10:55.914907Z",
     "shell.execute_reply": "2023-04-09T12:10:55.914003Z"
    },
    "papermill": {
     "duration": 0.01215,
     "end_time": "2023-04-09T12:10:55.917058",
     "exception": false,
     "start_time": "2023-04-09T12:10:55.904908",
     "status": "completed"
    },
    "tags": []
   },
   "outputs": [],
   "source": [
    "mod1=LinearRegression()\n",
    "mod2=DecisionTreeRegressor()\n",
    "mod3=SVR()"
   ]
  },
  {
   "cell_type": "code",
   "execution_count": 6,
   "id": "ddfb7d99",
   "metadata": {
    "execution": {
     "iopub.execute_input": "2023-04-09T12:10:55.925777Z",
     "iopub.status.busy": "2023-04-09T12:10:55.925192Z",
     "iopub.status.idle": "2023-04-09T12:10:55.929287Z",
     "shell.execute_reply": "2023-04-09T12:10:55.928540Z"
    },
    "papermill": {
     "duration": 0.010636,
     "end_time": "2023-04-09T12:10:55.931351",
     "exception": false,
     "start_time": "2023-04-09T12:10:55.920715",
     "status": "completed"
    },
    "tags": []
   },
   "outputs": [],
   "source": [
    "estimators=[('lr',mod1),('dt',mod2),('svr',mod3)]"
   ]
  },
  {
   "cell_type": "code",
   "execution_count": 7,
   "id": "6ed1530a",
   "metadata": {
    "execution": {
     "iopub.execute_input": "2023-04-09T12:10:55.939926Z",
     "iopub.status.busy": "2023-04-09T12:10:55.939412Z",
     "iopub.status.idle": "2023-04-09T12:10:56.193270Z",
     "shell.execute_reply": "2023-04-09T12:10:56.191831Z"
    },
    "papermill": {
     "duration": 0.260882,
     "end_time": "2023-04-09T12:10:56.195741",
     "exception": false,
     "start_time": "2023-04-09T12:10:55.934859",
     "status": "completed"
    },
    "tags": []
   },
   "outputs": [
    {
     "name": "stdout",
     "output_type": "stream",
     "text": [
      "lr 0.2\n",
      "dt -0.15\n",
      "svr -0.41\n"
     ]
    }
   ],
   "source": [
    "for estimator in estimators:\n",
    "    scores=cross_val_score(estimator[1],X,y,scoring='r2',cv=10)\n",
    "    print(estimator[0],np.round(np.mean(scores),2))"
   ]
  },
  {
   "cell_type": "code",
   "execution_count": 8,
   "id": "ce31dad4",
   "metadata": {
    "execution": {
     "iopub.execute_input": "2023-04-09T12:10:56.205575Z",
     "iopub.status.busy": "2023-04-09T12:10:56.204715Z",
     "iopub.status.idle": "2023-04-09T12:10:56.325732Z",
     "shell.execute_reply": "2023-04-09T12:10:56.324613Z"
    },
    "papermill": {
     "duration": 0.129175,
     "end_time": "2023-04-09T12:10:56.328800",
     "exception": false,
     "start_time": "2023-04-09T12:10:56.199625",
     "status": "completed"
    },
    "tags": []
   },
   "outputs": [],
   "source": [
    "from sklearn.ensemble import VotingRegressor\n"
   ]
  },
  {
   "cell_type": "code",
   "execution_count": 9,
   "id": "33ded81c",
   "metadata": {
    "execution": {
     "iopub.execute_input": "2023-04-09T12:10:56.338968Z",
     "iopub.status.busy": "2023-04-09T12:10:56.338121Z",
     "iopub.status.idle": "2023-04-09T12:10:56.573639Z",
     "shell.execute_reply": "2023-04-09T12:10:56.572436Z"
    },
    "papermill": {
     "duration": 0.243302,
     "end_time": "2023-04-09T12:10:56.576106",
     "exception": false,
     "start_time": "2023-04-09T12:10:56.332804",
     "status": "completed"
    },
    "tags": []
   },
   "outputs": [
    {
     "name": "stdout",
     "output_type": "stream",
     "text": [
      "Voting_Regressor 0.4\n"
     ]
    }
   ],
   "source": [
    "vr=VotingRegressor(estimators)\n",
    "scores=cross_val_score(vr,X,y,scoring='r2',cv=10)\n",
    "print('Voting_Regressor',np.round(np.mean(scores),2))"
   ]
  },
  {
   "cell_type": "code",
   "execution_count": 10,
   "id": "b09249c1",
   "metadata": {
    "execution": {
     "iopub.execute_input": "2023-04-09T12:10:56.585292Z",
     "iopub.status.busy": "2023-04-09T12:10:56.584931Z",
     "iopub.status.idle": "2023-04-09T12:11:02.789238Z",
     "shell.execute_reply": "2023-04-09T12:11:02.788120Z"
    },
    "papermill": {
     "duration": 6.211547,
     "end_time": "2023-04-09T12:11:02.791536",
     "exception": false,
     "start_time": "2023-04-09T12:10:56.579989",
     "status": "completed"
    },
    "tags": []
   },
   "outputs": [
    {
     "name": "stdout",
     "output_type": "stream",
     "text": [
      "for i=1,j=1,k=1 0.44\n",
      "for i=1,j=1,k=2 0.32\n",
      "for i=1,j=1,k=3 0.27\n",
      "for i=1,j=2,k=1 0.43\n",
      "for i=1,j=2,k=2 0.4\n",
      "for i=1,j=2,k=3 0.34\n",
      "for i=1,j=3,k=1 0.26\n",
      "for i=1,j=3,k=2 0.36\n",
      "for i=1,j=3,k=3 0.35\n",
      "for i=2,j=1,k=1 0.46\n",
      "for i=2,j=1,k=2 0.41\n",
      "for i=2,j=1,k=3 0.36\n",
      "for i=2,j=2,k=1 0.45\n",
      "for i=2,j=2,k=2 0.45\n",
      "for i=2,j=2,k=3 0.41\n",
      "for i=2,j=3,k=1 0.4\n",
      "for i=2,j=3,k=2 0.38\n",
      "for i=2,j=3,k=3 0.35\n",
      "for i=3,j=1,k=1 0.44\n",
      "for i=3,j=1,k=2 0.43\n",
      "for i=3,j=1,k=3 0.4\n",
      "for i=3,j=2,k=1 0.46\n",
      "for i=3,j=2,k=2 0.42\n",
      "for i=3,j=2,k=3 0.43\n",
      "for i=3,j=3,k=1 0.44\n",
      "for i=3,j=3,k=2 0.38\n",
      "for i=3,j=3,k=3 0.44\n"
     ]
    }
   ],
   "source": [
    "for i in range(1,4):\n",
    "    for j in range(1,4):\n",
    "        for k in range(1,4):\n",
    "            vr = VotingRegressor(estimators,weights=[i,j,k])\n",
    "            scores= cross_val_score(vr,X,y,cv=10,scoring='r2')\n",
    "            print(\"for i={},j={},k={}\".format(i,j,k),np.round(np.mean(scores),2))"
   ]
  },
  {
   "cell_type": "code",
   "execution_count": null,
   "id": "d7851531",
   "metadata": {
    "papermill": {
     "duration": 0.004894,
     "end_time": "2023-04-09T12:11:02.801761",
     "exception": false,
     "start_time": "2023-04-09T12:11:02.796867",
     "status": "completed"
    },
    "tags": []
   },
   "outputs": [],
   "source": []
  }
 ],
 "metadata": {
  "kernelspec": {
   "display_name": "Python 3",
   "language": "python",
   "name": "python3"
  },
  "language_info": {
   "codemirror_mode": {
    "name": "ipython",
    "version": 3
   },
   "file_extension": ".py",
   "mimetype": "text/x-python",
   "name": "python",
   "nbconvert_exporter": "python",
   "pygments_lexer": "ipython3",
   "version": "3.7.12"
  },
  "papermill": {
   "default_parameters": {},
   "duration": 18.863535,
   "end_time": "2023-04-09T12:11:03.527773",
   "environment_variables": {},
   "exception": null,
   "input_path": "__notebook__.ipynb",
   "output_path": "__notebook__.ipynb",
   "parameters": {},
   "start_time": "2023-04-09T12:10:44.664238",
   "version": "2.4.0"
  }
 },
 "nbformat": 4,
 "nbformat_minor": 5
}
